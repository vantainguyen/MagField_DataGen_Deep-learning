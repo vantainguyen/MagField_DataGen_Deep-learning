{
  "nbformat": 4,
  "nbformat_minor": 0,
  "metadata": {
    "colab": {
      "name": "Codes utilized in the study.ipynb",
      "provenance": [],
      "collapsed_sections": [],
      "include_colab_link": true
    },
    "kernelspec": {
      "name": "python3",
      "display_name": "Python 3"
    },
    "accelerator": "GPU"
  },
  "cells": [
    {
      "cell_type": "markdown",
      "metadata": {
        "id": "view-in-github",
        "colab_type": "text"
      },
      "source": [
        "<a href=\"https://colab.research.google.com/github/vantainguyen/MagField_DataGen_Deep-learning/blob/main/Codes_utilized_in_the_study.ipynb\" target=\"_parent\"><img src=\"https://colab.research.google.com/assets/colab-badge.svg\" alt=\"Open In Colab\"/></a>"
      ]
    },
    {
      "cell_type": "markdown",
      "metadata": {
        "id": "R0kgGFQYEito"
      },
      "source": [
        "# Plain-DNN for magnetic field "
      ]
    },
    {
      "cell_type": "markdown",
      "metadata": {
        "id": "bE4l7SXJFAIA"
      },
      "source": [
        "## Navigating to the working directory containing the datasets and model"
      ]
    },
    {
      "cell_type": "code",
      "metadata": {
        "colab": {
          "base_uri": "https://localhost:8080/"
        },
        "id": "MArVInGBbkWo",
        "outputId": "43a0a999-cba1-4a13-ed33-145ad1bf87bb"
      },
      "source": [
        "#Download data to google drive\n",
        "#!pip install google.colab\n",
        "from google.colab import drive\n",
        "import os\n",
        "\n",
        "useGoogleDrive=True\n",
        "\n",
        "if useGoogleDrive:\n",
        "  drive.mount('/content/gdrive', force_remount=True)\n",
        "  os.chdir(\"/content/gdrive/My Drive\")\n",
        "  if os.path.isdir(\"Data_and_model\"):\n",
        "    os.chdir(\"/content/gdrive/My Drive/Data_and_model\")\n",
        "  else:\n",
        "    !mkdir -p /content/gdrive/My\\ Drive/Data_and_model\n",
        "    os.chdir(\"/content/gdrive/My Drive/Data_and_model\")"
      ],
      "execution_count": null,
      "outputs": [
        {
          "output_type": "stream",
          "name": "stdout",
          "text": [
            "Mounted at /content/gdrive\n"
          ]
        }
      ]
    },
    {
      "cell_type": "code",
      "metadata": {
        "colab": {
          "base_uri": "https://localhost:8080/"
        },
        "id": "gE6OU6Z212Em",
        "outputId": "cd714461-fa59-476d-89d3-a4a3534a58c3"
      },
      "source": [
        "import os\n",
        "\n",
        "if os.path.isdir('EC_data_4m') and os.path.isdir('Cone_data_4m'):\n",
        "  print (\"exists already - skipping\")\n",
        "else:\n",
        "  !wget https://osf.io/gt8h9/download\n",
        "  !unzip 'download'\n",
        "  !rm 'download'\n",
        "\n",
        "\n"
      ],
      "execution_count": null,
      "outputs": [
        {
          "output_type": "stream",
          "name": "stdout",
          "text": [
            "--2022-05-04 00:31:59--  https://osf.io/gt8h9/download\n",
            "Resolving osf.io (osf.io)... 35.190.84.173\n",
            "Connecting to osf.io (osf.io)|35.190.84.173|:443... connected.\n",
            "HTTP request sent, awaiting response... 302 FOUND\n",
            "Location: https://files.au-1.osf.io/v1/resources/e3g82/providers/osfstorage/624d252db88dd400b61cbde5?action=download&direct&version=1 [following]\n",
            "--2022-05-04 00:31:59--  https://files.au-1.osf.io/v1/resources/e3g82/providers/osfstorage/624d252db88dd400b61cbde5?action=download&direct&version=1\n",
            "Resolving files.au-1.osf.io (files.au-1.osf.io)... 35.241.28.215\n",
            "Connecting to files.au-1.osf.io (files.au-1.osf.io)|35.241.28.215|:443... connected.\n",
            "HTTP request sent, awaiting response... 200 OK\n",
            "Length: 1973290236 (1.8G) [application/octet-stream]\n",
            "Saving to: ‘download’\n",
            "\n",
            "download            100%[===================>]   1.84G  13.6MB/s    in 2m 26s  \n",
            "\n",
            "2022-05-04 00:34:29 (12.9 MB/s) - ‘download’ saved [1973290236/1973290236]\n",
            "\n",
            "Archive:  download\n",
            "replace Data_and_model/Cone_data_4m/Data_cone_testing_time_DL/ground_truth_field_axra_for_clean_az? [y]es, [n]o, [A]ll, [N]one, [r]ename: "
          ]
        }
      ]
    },
    {
      "cell_type": "code",
      "metadata": {
        "id": "o2eh2ulNaWnp",
        "colab": {
          "base_uri": "https://localhost:8080/",
          "height": 36
        },
        "outputId": "316d9484-b1b2-4249-f5d9-4b845a752ac4"
      },
      "source": [
        "import os\n",
        "os.getcwd()\n",
        "# os.chdir('/content/Data_and_model/')\n",
        "\n"
      ],
      "execution_count": null,
      "outputs": [
        {
          "output_type": "execute_result",
          "data": {
            "text/plain": [
              "'/content/gdrive/MyDrive/Data_and_model'"
            ],
            "application/vnd.google.colaboratory.intrinsic+json": {
              "type": "string"
            }
          },
          "metadata": {},
          "execution_count": 9
        }
      ]
    },
    {
      "cell_type": "markdown",
      "metadata": {
        "id": "m_C2QF60Lur6"
      },
      "source": [
        "## Choosing geometries of permanent magnets"
      ]
    },
    {
      "cell_type": "code",
      "metadata": {
        "colab": {
          "base_uri": "https://localhost:8080/"
        },
        "id": "aVBGxlQvL4yQ",
        "outputId": "2ec23066-638c-45f1-d5cb-b8ee0be39adb"
      },
      "source": [
        "# Which geometry you want to work on 1: Elliptical cylinder; 2: Cone; 3: Paraboloid\n",
        "\n",
        "geo = ['Elliptical cylinder', 'Cone']\n",
        "k = 2\n",
        "bol = True\n",
        "\n",
        "while bol:\n",
        "  geometry = int(input(\"Please insert number 1, 2for Elliptical cylinder, Cone: \"))\n",
        "  if geometry == 1 or geometry == 2:\n",
        "    print(\"You have choose to work on \"+ geo[geometry - 1])\n",
        "    bol = False\n",
        "  else:\n",
        "    k -= 1\n",
        "    print(f\"Input is not 1 or 2; you have {k} atempts last\")\n",
        "    if k == 0:\n",
        "      print('You have failed to choose a geometry: Please execute the cell again')\n",
        "      break\n"
      ],
      "execution_count": null,
      "outputs": [
        {
          "output_type": "stream",
          "name": "stdout",
          "text": [
            "Please insert number 1, 2for Elliptical cylinder, Cone: 2\n",
            "You have choose to work on Cone\n"
          ]
        }
      ]
    },
    {
      "cell_type": "code",
      "metadata": {
        "id": "Ly3V_dY6i3ma"
      },
      "source": [
        "os.chdir('Data_and_model')"
      ],
      "execution_count": null,
      "outputs": []
    },
    {
      "cell_type": "code",
      "source": [
        "!ls"
      ],
      "metadata": {
        "colab": {
          "base_uri": "https://localhost:8080/"
        },
        "id": "Fl3dfOwxezj_",
        "outputId": "b31d6a0a-44a8-4cb5-bf45-2d93d988d03b"
      },
      "execution_count": null,
      "outputs": [
        {
          "output_type": "stream",
          "name": "stdout",
          "text": [
            "Cone_data_4m  EC_data_4m\n"
          ]
        }
      ]
    },
    {
      "cell_type": "code",
      "metadata": {
        "id": "AxJrdrvhWwM7"
      },
      "source": [
        "source_file = True\n",
        "folder = ['EC_data_4m', 'Cone_data_4m']\n",
        "\n",
        "if source_file:\n",
        "  #os.chdir('Data_and_model') # Change directory to Data_and_model (dowloaded from the OSF) folder if needed\n",
        "  source_file = os.getcwd()\n",
        "  source_file = os.path.join(source_file, folder[geometry - 1])\n",
        "else:\n",
        "  source_file = '/home/opc/vantai/EC_data_4m'\n",
        "\n"
      ],
      "execution_count": null,
      "outputs": []
    },
    {
      "cell_type": "markdown",
      "metadata": {
        "id": "GULLKWdrGUvW"
      },
      "source": [
        "## Checking the current working GPU"
      ]
    },
    {
      "cell_type": "code",
      "metadata": {
        "colab": {
          "base_uri": "https://localhost:8080/"
        },
        "id": "kPKdK-bUehpt",
        "outputId": "3a193b3d-16e6-428b-ab48-efaa5bc60ba3"
      },
      "source": [
        "!nvidia-smi"
      ],
      "execution_count": null,
      "outputs": [
        {
          "output_type": "stream",
          "name": "stdout",
          "text": [
            "Wed Apr  6 05:38:39 2022       \n",
            "+-----------------------------------------------------------------------------+\n",
            "| NVIDIA-SMI 460.32.03    Driver Version: 460.32.03    CUDA Version: 11.2     |\n",
            "|-------------------------------+----------------------+----------------------+\n",
            "| GPU  Name        Persistence-M| Bus-Id        Disp.A | Volatile Uncorr. ECC |\n",
            "| Fan  Temp  Perf  Pwr:Usage/Cap|         Memory-Usage | GPU-Util  Compute M. |\n",
            "|                               |                      |               MIG M. |\n",
            "|===============================+======================+======================|\n",
            "|   0  Tesla K80           Off  | 00000000:00:04.0 Off |                    0 |\n",
            "| N/A   35C    P8    29W / 149W |      0MiB / 11441MiB |      0%      Default |\n",
            "|                               |                      |                  N/A |\n",
            "+-------------------------------+----------------------+----------------------+\n",
            "                                                                               \n",
            "+-----------------------------------------------------------------------------+\n",
            "| Processes:                                                                  |\n",
            "|  GPU   GI   CI        PID   Type   Process name                  GPU Memory |\n",
            "|        ID   ID                                                   Usage      |\n",
            "|=============================================================================|\n",
            "|  No running processes found                                                 |\n",
            "+-----------------------------------------------------------------------------+\n"
          ]
        }
      ]
    },
    {
      "cell_type": "markdown",
      "metadata": {
        "id": "0jLSOxGgfqyg"
      },
      "source": [
        "## Loading ready processed datasets"
      ]
    },
    {
      "cell_type": "code",
      "metadata": {
        "id": "umlS9rTI1hTv"
      },
      "source": [
        "import pickle\n",
        "import os\n",
        "\n",
        "os.chdir(source_file)\n",
        "\n",
        "# Replace _ax with _az or _ra for the azimuthal or radial component\n",
        "\n",
        "with open('re_s_x_train_scaled_az', 'rb') as filename:\n",
        "  s_x_train_scaled = pickle.load(filename)\n",
        "\n",
        "with open('re_s_y_train_scaled_az', 'rb') as filename:\n",
        "  s_y_train_scaled = pickle.load(filename)\n",
        "\n",
        "with open('re_s_x_test_scaled_az', 'rb') as filename:\n",
        "  s_x_test_scaled = pickle.load(filename)\n",
        "\n",
        "with open('re_s_y_test_scaled_az', 'rb') as filename:\n",
        "  s_y_test_scaled = pickle.load(filename)\n",
        "\n",
        "with open('re_x_sScaler_az', 'rb') as filename:\n",
        "  x_sScaler = pickle.load(filename)\n",
        "\n",
        "with open('re_y_sScaler_az', 'rb') as filename:\n",
        "  y_sScaler = pickle.load(filename)\n",
        "\n"
      ],
      "execution_count": null,
      "outputs": []
    },
    {
      "cell_type": "markdown",
      "metadata": {
        "id": "WC2c9f-6XYIN"
      },
      "source": [
        "## PlainDNN model development"
      ]
    },
    {
      "cell_type": "code",
      "metadata": {
        "id": "Sn-neru9VJb0",
        "colab": {
          "base_uri": "https://localhost:8080/"
        },
        "outputId": "8b980a1c-a51d-47a7-a7c1-a3f2b485c1a3"
      },
      "source": [
        "# Plain DNN model\n",
        "\n",
        "\n",
        "import tensorflow as tf\n",
        "import numpy as np\n",
        "from tensorflow.keras.layers import Add, Concatenate, Activation\n",
        "\n",
        "\n",
        "# Define a customised loss function\n",
        "\n",
        "rmse = False # Define a root mean square loss\n",
        "if rmse:\n",
        "  def loss_func(y_true, y_pred): \n",
        "      \n",
        "      # Root mean square loss\n",
        "      squared_difference = tf.square(y_true - y_pred)\n",
        "      mean_square_loss = tf.reduce_mean(squared_difference, axis=-1)\n",
        "      root_mean_square_loss = tf.sqrt(mean_square_loss)\n",
        "      \n",
        "      return root_mean_square_loss \n",
        "else:\n",
        "  loss_func = 'mse'\n",
        "\n",
        "\n",
        "class PlainDNNModel(tf.keras.Model):\n",
        "    def __init__(self):\n",
        "        \n",
        "        super(PlainDNNModel, self).__init__()\n",
        "        \n",
        "        self.dense1_1 = tf.keras.layers.Dense(796, activation=tf.nn.relu)\n",
        "        self.dense1_2 = tf.keras.layers.Dense(796, activation=tf.nn.relu)\n",
        "        self.dense1_3 = tf.keras.layers.Dense(796, activation=tf.nn.relu)\n",
        "\n",
        "\n",
        "        self.dense2_1 = tf.keras.layers.Dense(796, activation=tf.nn.relu)\n",
        "        self.dense2_2 = tf.keras.layers.Dense(796, activation=tf.nn.relu)\n",
        "        self.dense2_3 = tf.keras.layers.Dense(796, activation=tf.nn.relu)\n",
        "\n",
        "\n",
        "        self.dense3_1 = tf.keras.layers.Dense(796, activation=tf.nn.relu)\n",
        "        self.dense3_2 = tf.keras.layers.Dense(796, activation=tf.nn.relu)\n",
        "        self.dense3_3 = tf.keras.layers.Dense(796, activation=tf.nn.relu)\n",
        "        self.dense3_4 = tf.keras.layers.Dense(796, activation=tf.nn.relu)\n",
        "        self.dense3_o = tf.keras.layers.Dense(1)\n",
        "\n",
        "        \n",
        "    def call(self, inputs):\n",
        "        \n",
        "        x_1 = self.dense1_1(inputs)\n",
        "        x_1 = self.dense1_2(x_1)\n",
        "        x_1 = self.dense1_3(x_1)\n",
        "\n",
        "        x_2 = self.dense2_1(x_1)\n",
        "        x_2 = self.dense2_2(x_2)\n",
        "        x_2 = self.dense2_3(x_2)\n",
        "\n",
        "        x_3 = self.dense3_1(x_2)\n",
        "        x_3 = self.dense3_2(x_3)\n",
        "        x_3 = self.dense3_3(x_3)\n",
        "        x_3 = self.dense3_4(x_3)\n",
        "        x_3 = self.dense3_o(x_3)\n",
        "           \n",
        "        return x_3\n",
        "    \n",
        "\n",
        "PlainModel = PlainDNNModel()  \n",
        "\n",
        "\n",
        "opt = tf.keras.optimizers.Adam(learning_rate=0.001, amsgrad=True, beta_1=.9, beta_2=.9999)\n",
        "\n",
        "PlainModel.compile(optimizer=opt, loss=loss_func)"
      ],
      "execution_count": null,
      "outputs": [
        {
          "output_type": "stream",
          "name": "stdout",
          "text": [
            "WARNING:tensorflow:Detecting that an object or model or tf.train.Checkpoint is being deleted with unrestored values. See the following logs for the specific values in question. To silence these warnings, use `status.expect_partial()`. See https://www.tensorflow.org/api_docs/python/tf/train/Checkpoint#restorefor details about the status object returned by the restore function.\n",
            "WARNING:tensorflow:Value in checkpoint could not be found in the restored object: (root).dense1_1.kernel\n",
            "WARNING:tensorflow:Value in checkpoint could not be found in the restored object: (root).dense1_1.bias\n",
            "WARNING:tensorflow:Value in checkpoint could not be found in the restored object: (root).dense1_2.kernel\n",
            "WARNING:tensorflow:Value in checkpoint could not be found in the restored object: (root).dense1_2.bias\n",
            "WARNING:tensorflow:Value in checkpoint could not be found in the restored object: (root).dense1_3.kernel\n",
            "WARNING:tensorflow:Value in checkpoint could not be found in the restored object: (root).dense1_3.bias\n",
            "WARNING:tensorflow:Value in checkpoint could not be found in the restored object: (root).dense2_1.kernel\n",
            "WARNING:tensorflow:Value in checkpoint could not be found in the restored object: (root).dense2_1.bias\n",
            "WARNING:tensorflow:Value in checkpoint could not be found in the restored object: (root).dense2_2.kernel\n",
            "WARNING:tensorflow:Value in checkpoint could not be found in the restored object: (root).dense2_2.bias\n"
          ]
        }
      ]
    },
    {
      "cell_type": "markdown",
      "metadata": {
        "id": "MZmHDFl0RqH1"
      },
      "source": [
        "## Loading pre-trained model"
      ]
    },
    {
      "cell_type": "code",
      "metadata": {
        "id": "LxktBSzSRpke"
      },
      "source": [
        "import tensorflow as tf\n",
        "import os\n",
        "import numpy as np\n",
        "from tensorflow.keras.layers import Add, Concatenate, Activation\n",
        "\n",
        "\n",
        "# Define a customised loss function\n",
        "rmse = False\n",
        "if rmse:\n",
        "  def loss_func(y_true, y_pred): \n",
        "      \n",
        "      # Root mean square loss\n",
        "      squared_difference = tf.square(y_true - y_pred)\n",
        "      mean_square_loss = tf.reduce_mean(squared_difference, axis=-1)\n",
        "      root_mean_square_loss = tf.sqrt(mean_square_loss + 1e-20)\n",
        "      \n",
        "      return root_mean_square_loss \n",
        "else:\n",
        "  loss_func = 'mse'\n",
        "\n",
        "source_file_model = os.path.join(source_file, 're_HDNNmodel_IQR_az') # Replace _ax with _az or _ra for the azimuthal or radial component\n",
        "if os.getcwd != source_file_model:\n",
        "  os.chdir(source_file_model)\n",
        "\n",
        "PlainModel = PlainDNNModel()  \n",
        "\n",
        "if geometry == 1:\n",
        "  PlainModel.load_weights('PlainDNN_400_796_clean') \n",
        "elif geometry == 2:\n",
        "  PlainModel.load_weights('PlainDNN_400_796_clean')\n",
        "\n",
        "\n",
        "\n",
        "opt = tf.keras.optimizers.Adam(learning_rate=0.001, amsgrad=True, beta_1=.9, beta_2=.9999 )\n",
        "\n",
        "PlainModel.compile(optimizer=opt, loss=loss_func) \n",
        "\n"
      ],
      "execution_count": null,
      "outputs": []
    },
    {
      "cell_type": "markdown",
      "metadata": {
        "id": "5WaHemvYMRZy"
      },
      "source": [
        "## Training new model"
      ]
    },
    {
      "cell_type": "code",
      "metadata": {
        "id": "VvWFpvzFOKHU"
      },
      "source": [
        "import pickle\n",
        "import time\n",
        "import os\n",
        "from datetime import datetime\n",
        "%load_ext tensorboard\n",
        "\n",
        "now = datetime.now()\n",
        "\n",
        "source_file_model = os.path.join(source_file, 're_HDNNmodel_IQR_ax') # Replace _ax with _az or _ra for the azimuthal or radial component\n",
        "if os.getcwd != source_file_model:\n",
        "  os.chdir(source_file_model)\n",
        "\n",
        "\n",
        "\n",
        "filepath = os.path.join(os.getcwd(), 'PlainDNN_400_796_clean') # Save as your desire\n",
        "\n",
        "modelcheckpoint = tf.keras.callbacks.ModelCheckpoint(filepath=filepath, monitor='val_loss', \n",
        "                                                     mode='min', verbose=1, save_best_only=True, save_weights_only=True)\n",
        "\n",
        "earlystopping = tf.keras.callbacks.EarlyStopping(monitor='val_loss', verbose=1, mode='min', patience=20, min_delta=0.00005)\n",
        "\n",
        "new_lr = tf.keras.callbacks.ReduceLROnPlateau(monitor='val_loss', mode='min', verbose=1, patience=10, \n",
        "                                              factor=1/10, min_lr=1e-5)\n",
        "\n",
        "path = \"logs/fit/\" + now.strftime(\"%Y/%m/%/d, %H/%M\")\n",
        "\n",
        "#tensorboard = tf.keras.callbacks.TensorBoard(log_dir=path, histogram_freq=1)\n",
        "\n",
        "st = time.time()\n",
        "\n",
        "history = PlainModel.fit(s_x_train_scaled, s_y_train_scaled, validation_split=.20, \n",
        "                     batch_size=512, epochs=400, callbacks=[earlystopping, modelcheckpoint, new_lr])\n",
        "\n",
        "used_time = time.time() - st\n",
        "\n",
        "with open('p796_history_400_clean', 'wb') as filename:\n",
        "  pickle.dump(history.history, filename)\n",
        "\n",
        "with open('p796_used_time_400_clean', 'wb') as filename:\n",
        "  pickle.dump(used_time, filename)\n",
        "\n"
      ],
      "execution_count": null,
      "outputs": []
    },
    {
      "cell_type": "code",
      "metadata": {
        "colab": {
          "base_uri": "https://localhost:8080/"
        },
        "id": "iLASRK15lsYo",
        "outputId": "97aa716a-4c0b-4559-8076-5904bb0fb2c0"
      },
      "source": [
        "PlainModel.summary()"
      ],
      "execution_count": null,
      "outputs": [
        {
          "output_type": "stream",
          "name": "stdout",
          "text": [
            "Model: \"plain_dnn_model_8\"\n",
            "_________________________________________________________________\n",
            " Layer (type)                Output Shape              Param #   \n",
            "=================================================================\n",
            " dense_88 (Dense)            multiple                  6368      \n",
            "                                                                 \n",
            " dense_89 (Dense)            multiple                  634412    \n",
            "                                                                 \n",
            " dense_90 (Dense)            multiple                  634412    \n",
            "                                                                 \n",
            " dense_91 (Dense)            multiple                  634412    \n",
            "                                                                 \n",
            " dense_92 (Dense)            multiple                  634412    \n",
            "                                                                 \n",
            " dense_93 (Dense)            multiple                  634412    \n",
            "                                                                 \n",
            " dense_94 (Dense)            multiple                  634412    \n",
            "                                                                 \n",
            " dense_95 (Dense)            multiple                  634412    \n",
            "                                                                 \n",
            " dense_96 (Dense)            multiple                  634412    \n",
            "                                                                 \n",
            " dense_97 (Dense)            multiple                  634412    \n",
            "                                                                 \n",
            " dense_98 (Dense)            multiple                  797       \n",
            "                                                                 \n",
            "=================================================================\n",
            "Total params: 5,716,873\n",
            "Trainable params: 5,716,873\n",
            "Non-trainable params: 0\n",
            "_________________________________________________________________\n"
          ]
        }
      ]
    },
    {
      "cell_type": "markdown",
      "source": [
        "##Training history"
      ],
      "metadata": {
        "id": "OcY8jiungOtZ"
      }
    },
    {
      "cell_type": "code",
      "source": [
        "import pickle\n",
        "import os\n",
        "import pandas as pd\n",
        "import matplotlib.pyplot as plt\n",
        "\n",
        "source_file = '/content/Data_and_model/Cone_data_4m'\n",
        "source_file_model = os.path.join(source_file, 're_HDNNmodel_IQR_ax')\n",
        "\n",
        "if os.getcwd() != source_file_model:\n",
        "  os.chdir(source_file_model)\n",
        "\n",
        "with open('p796_history_400_clean', 'rb') as filename:\n",
        "  hist1 = pickle.load(filename)\n",
        "\n",
        "pdhist1 = pd.DataFrame(hist1)\n",
        "\n",
        "pdhist1['loss'].plot(linestyle='--', c='b')\n",
        "pdhist1['val_loss'].plot(c='r')\n",
        "\n",
        "plt.legend(loc='upper right', fontsize=16)\n",
        "plt.grid()\n",
        "plt.xlim(0, 81)\n",
        "plt.ylim(0, 0.12)\n",
        "\n",
        "plt.xlabel('Epochs (CAx)', fontsize=16)\n",
        "plt.ylabel('Errors', fontsize=16)\n"
      ],
      "metadata": {
        "colab": {
          "base_uri": "https://localhost:8080/",
          "height": 306
        },
        "id": "nu4-DpzugQ2h",
        "outputId": "7b27b07c-52a7-4d6c-99af-36805cf77e4c"
      },
      "execution_count": null,
      "outputs": [
        {
          "output_type": "execute_result",
          "data": {
            "text/plain": [
              "Text(0, 0.5, 'Errors')"
            ]
          },
          "metadata": {},
          "execution_count": 59
        },
        {
          "output_type": "display_data",
          "data": {
            "text/plain": [
              "<Figure size 432x288 with 1 Axes>"
            ],
            "image/png": "[encoded data removed]"
          },
          "metadata": {
            "needs_background": "light"
          }
        }
      ]
    },
    {
      "cell_type": "markdown",
      "metadata": {
        "id": "u475odLYG8Ds"
      },
      "source": [
        "## Model testing"
      ]
    },
    {
      "cell_type": "code",
      "metadata": {
        "id": "Ad1zBGPzWhmq"
      },
      "source": [
        "# Predicting the results\n",
        "s_y_predicted_scaled = PlainModel.predict(s_x_test_scaled)"
      ],
      "execution_count": null,
      "outputs": []
    },
    {
      "cell_type": "markdown",
      "source": [
        "### R-squared test"
      ],
      "metadata": {
        "id": "qLOFRoPCeKub"
      }
    },
    {
      "cell_type": "code",
      "metadata": {
        "colab": {
          "base_uri": "https://localhost:8080/"
        },
        "id": "KIzkXcOSxOfT",
        "outputId": "25fe8263-e0b6-41a4-9bfa-a246f531a133"
      },
      "source": [
        "# Testing the model\n",
        "from sklearn.metrics import r2_score\n",
        "\n",
        "r2_score(s_y_test_scaled, s_y_predicted_scaled)"
      ],
      "execution_count": null,
      "outputs": [
        {
          "output_type": "execute_result",
          "data": {
            "text/plain": [
              "0.9987114009746431"
            ]
          },
          "metadata": {},
          "execution_count": 50
        }
      ]
    },
    {
      "cell_type": "markdown",
      "source": [
        "### Pearson correlation test"
      ],
      "metadata": {
        "id": "8nea6eCreOvs"
      }
    },
    {
      "cell_type": "code",
      "source": [
        "import scipy.stats as ss\n",
        "\n",
        "ss.pearsonr(np.squeeze(s_y_test_scaled), np.squeeze(s_y_predicted_scaled))"
      ],
      "metadata": {
        "colab": {
          "base_uri": "https://localhost:8080/"
        },
        "id": "mQ2IhNzHeRi8",
        "outputId": "40245d69-fca7-4c8d-cf8c-d7491d6bc9e1"
      },
      "execution_count": null,
      "outputs": [
        {
          "output_type": "execute_result",
          "data": {
            "text/plain": [
              "(0.9993555270829454, 0.0)"
            ]
          },
          "metadata": {},
          "execution_count": 51
        }
      ]
    },
    {
      "cell_type": "markdown",
      "source": [
        "###Scatter plot"
      ],
      "metadata": {
        "id": "HTJckRJOeYaC"
      }
    },
    {
      "cell_type": "code",
      "source": [
        "import matplotlib.pyplot as plt\n",
        "y_pred = y_sScaler.inverse_transform(s_y_predicted_scaled)\n",
        "y_test = y_sScaler.inverse_transform(s_y_test_scaled)\n",
        "a, b = np.polyfit(np.squeeze(y_test), np.squeeze(y_pred), 1)\n",
        "plt.scatter(y_test, y_pred)\n",
        "plt.plot(y_test, a*y_test+b, color='r')\n",
        "\n",
        "plt.xlabel('Ground truth field (A/m) (Cax)', fontsize=16)\n",
        "plt.ylabel('Predicted field (A/m)', fontsize=16)\n",
        "plt.grid('on')"
      ],
      "metadata": {
        "colab": {
          "base_uri": "https://localhost:8080/",
          "height": 284
        },
        "id": "qemIY0wPefxz",
        "outputId": "a48b369b-afd1-4806-b501-3c57fb6d1444"
      },
      "execution_count": null,
      "outputs": [
        {
          "output_type": "display_data",
          "data": {
            "text/plain": [
              "<Figure size 432x288 with 1 Axes>"
            ],
            "image/png": "[encoded data removed]"
          },
          "metadata": {
            "needs_background": "light"
          }
        }
      ]
    },
    {
      "cell_type": "markdown",
      "source": [
        "### Kernel density estimation"
      ],
      "metadata": {
        "id": "Hf5p9j2xfPcB"
      }
    },
    {
      "cell_type": "code",
      "source": [
        "# Plotting pairs\n",
        "# Not normalized\n",
        "import seaborn as sns\n",
        "\n",
        "height = [0.00148, 0.788, 0.00395]\n",
        "low = [-0.000227, -0.12, -0.000588]\n",
        "plt.figure(figsize=(10, 14))\n",
        "\n",
        "interq_955 = np.subtract(*np.percentile(y_test, [95, 5]))\n",
        "errors = abs(y_pred - y_test)*100/interq_955\n",
        "\n",
        "\n",
        "plt.subplot(342)\n",
        "mean = np.mean(errors)\n",
        "std = np.std(errors)\n",
        "\n",
        "print('mean: {}, std: {}'.format(mean, std))\n",
        "\n",
        "sns.distplot(errors, kde=True, hist=False, rug=False, kde_kws={\"shade\": True, \"bw_adjust\": 1, \"cut\":0, \"bw_method\": 'silverman'}, color='b')\n",
        "#sns.kdeplot(data=errors, fill=True)\n",
        "plt.xlim(-5, 5)\n",
        "plt.text(-7, -0.3, 'ND (%) (CAx)', fontsize=16)\n",
        "#plt.text(-20, 1.6*low[index_+1], 'j) Azimuthal component', fontsize=12)\n",
        "# #plt.xlabel('b) Azimuthal component', fontsize=12)\n",
        "plt.ylabel('Kernel density estimation', fontsize=16)\n",
        "plt.text(-9, 2.3, '\\u03BC = {:2.2}, \\u03C3 = {:0.3}'.format(mean, std), fontsize=16) # height index_ .2 for axial; = 6.5 for azimuthal and .42 for radial\n",
        "# #plt.tight_layout(rect=(0., 0., 1, 1))\n",
        "plt.subplots_adjust(left=None, bottom=None, right=None, top=None, wspace=1., hspace=None)\n",
        "\n",
        "\n",
        "\n",
        "\n",
        "\n",
        "\n",
        "\n",
        "\n"
      ],
      "metadata": {
        "colab": {
          "base_uri": "https://localhost:8080/",
          "height": 384
        },
        "id": "LSNfpP9WfTOv",
        "outputId": "26c8e474-7780-4bd6-b492-241e31b074dc"
      },
      "execution_count": null,
      "outputs": [
        {
          "output_type": "stream",
          "name": "stdout",
          "text": [
            "mean: 0.2704050943233411, std: 1.0516878016436386\n"
          ]
        },
        {
          "output_type": "stream",
          "name": "stderr",
          "text": [
            "/usr/local/lib/python3.7/dist-packages/seaborn/distributions.py:2619: FutureWarning: `distplot` is a deprecated function and will be removed in a future version. Please adapt your code to use either `displot` (a figure-level function with similar flexibility) or `kdeplot` (an axes-level function for kernel density plots).\n",
            "  warnings.warn(msg, FutureWarning)\n"
          ]
        },
        {
          "output_type": "display_data",
          "data": {
            "text/plain": [
              "<Figure size 720x1008 with 1 Axes>"
            ],
            "image/png": "[encoded data removed]"
          },
          "metadata": {
            "needs_background": "light"
          }
        }
      ]
    },
    {
      "cell_type": "markdown",
      "metadata": {
        "id": "H67ozPvXaIM2"
      },
      "source": [
        "## Codes for generating new training/validation/testing datasets"
      ]
    },
    {
      "cell_type": "code",
      "metadata": {
        "colab": {
          "base_uri": "https://localhost:8080/"
        },
        "id": "nG9bxWpvaH60",
        "outputId": "4f0f945e-8fb3-49a5-c2d7-ac61e365d6ec"
      },
      "source": [
        "if os.path.isdir('Magnetised_Cone') and os.path.isdir('Magnetised_Elliptical_Cylinder'):\n",
        "  print (\"exists already - skipping\")\n",
        "else:\n",
        "  !wget https://osf.io/48nbk/download\n",
        "  !unzip 'download'\n",
        "  !rm 'download'\n",
        "\n",
        "print('The Python codes to generate new training/validation/testing datasets are now located in these subfolders')"
      ],
      "execution_count": null,
      "outputs": [
        {
          "output_type": "stream",
          "name": "stdout",
          "text": [
            "--2022-04-06 05:42:57--  https://osf.io/48nbk/download\n",
            "Resolving osf.io (osf.io)... 35.190.84.173\n",
            "Connecting to osf.io (osf.io)|35.190.84.173|:443... connected.\n",
            "HTTP request sent, awaiting response... 302 FOUND\n",
            "Location: https://files.au-1.osf.io/v1/resources/e3g82/providers/osfstorage/619d93710528780096ab239c?action=download&direct&version=1 [following]\n",
            "--2022-04-06 05:42:58--  https://files.au-1.osf.io/v1/resources/e3g82/providers/osfstorage/619d93710528780096ab239c?action=download&direct&version=1\n",
            "Resolving files.au-1.osf.io (files.au-1.osf.io)... 35.241.28.215\n",
            "Connecting to files.au-1.osf.io (files.au-1.osf.io)|35.241.28.215|:443... connected.\n",
            "HTTP request sent, awaiting response... 200 OK\n",
            "Length: 127889990 (122M) [application/octet-stream]\n",
            "Saving to: ‘download’\n",
            "\n",
            "download            100%[===================>] 121.96M  20.9MB/s    in 7.1s    \n",
            "\n",
            "2022-04-06 05:43:06 (17.3 MB/s) - ‘download’ saved [127889990/127889990]\n",
            "\n",
            "Archive:  download\n",
            "   creating: Magnetised_Cone/\n",
            "  inflating: Magnetised_Cone/Data_generation_cone.py  \n",
            "  inflating: Magnetised_Cone/MagField_3.py  \n",
            "   creating: Magnetised_Cone/n_Data_2m_Cone/\n",
            "  inflating: Magnetised_Cone/n_Data_2m_Cone/n_H_cone_2m_dataset  \n",
            "  inflating: Magnetised_Cone/n_Data_2m_Cone/n_para_cone_2m_dataset  \n",
            "   creating: Magnetised_Cone/__pycache__/\n",
            "  inflating: Magnetised_Cone/__pycache__/MagField_3.cpython-38.pyc  \n",
            "   creating: Magnetised_Elliptical_Cylinder/\n",
            "  inflating: Magnetised_Elliptical_Cylinder/Data_generation_elliptical_cylinder.py  \n",
            "  inflating: Magnetised_Elliptical_Cylinder/MagField_2.py  \n",
            "   creating: Magnetised_Elliptical_Cylinder/__pycache__/\n",
            "  inflating: Magnetised_Elliptical_Cylinder/__pycache__/MagField_2.cpython-38.pyc  \n",
            "   creating: Magnetised_Paraboloid/\n",
            "   creating: Magnetised_Paraboloid/build/\n",
            "   creating: Magnetised_Paraboloid/build/lib.win-amd64-3.8/\n",
            "  inflating: Magnetised_Paraboloid/build/lib.win-amd64-3.8/Data_generation_cython.cp38-win_amd64.pyd  \n",
            "  inflating: Magnetised_Paraboloid/build/lib.win-amd64-3.8/Data_generation_cython_paraboloid.cp38-win_amd64.pyd  \n",
            "  inflating: Magnetised_Paraboloid/build/lib.win-amd64-3.8/Field_c.cp38-win_amd64.pyd  \n",
            "  inflating: Magnetised_Paraboloid/build/lib.win-amd64-3.8/Field_c_paraboloid.cp38-win_amd64.pyd  \n",
            "   creating: Magnetised_Paraboloid/build/temp.win-amd64-3.8/\n",
            "   creating: Magnetised_Paraboloid/build/temp.win-amd64-3.8/Release/\n",
            "  inflating: Magnetised_Paraboloid/build/temp.win-amd64-3.8/Release/Data_generation_cython.cp38-win_amd64.exp  \n",
            "  inflating: Magnetised_Paraboloid/build/temp.win-amd64-3.8/Release/Data_generation_cython.cp38-win_amd64.lib  \n",
            "  inflating: Magnetised_Paraboloid/build/temp.win-amd64-3.8/Release/Data_generation_cython.obj  \n",
            "  inflating: Magnetised_Paraboloid/build/temp.win-amd64-3.8/Release/Data_generation_cython_paraboloid.cp38-win_amd64.exp  \n",
            "  inflating: Magnetised_Paraboloid/build/temp.win-amd64-3.8/Release/Data_generation_cython_paraboloid.cp38-win_amd64.lib  \n",
            "  inflating: Magnetised_Paraboloid/build/temp.win-amd64-3.8/Release/Data_generation_cython_paraboloid.obj  \n",
            "  inflating: Magnetised_Paraboloid/build/temp.win-amd64-3.8/Release/Field_c.cp38-win_amd64.exp  \n",
            "  inflating: Magnetised_Paraboloid/build/temp.win-amd64-3.8/Release/Field_c.cp38-win_amd64.lib  \n",
            "  inflating: Magnetised_Paraboloid/build/temp.win-amd64-3.8/Release/Field_c.obj  \n",
            "  inflating: Magnetised_Paraboloid/build/temp.win-amd64-3.8/Release/Field_c_paraboloid.cp38-win_amd64.exp  \n",
            "  inflating: Magnetised_Paraboloid/build/temp.win-amd64-3.8/Release/Field_c_paraboloid.cp38-win_amd64.lib  \n",
            "  inflating: Magnetised_Paraboloid/build/temp.win-amd64-3.8/Release/Field_c_paraboloid.obj  \n",
            "  inflating: Magnetised_Paraboloid/Data_generation_cython_paraboloid.c  \n",
            "  inflating: Magnetised_Paraboloid/Data_generation_cython_paraboloid.pyx  \n",
            "  inflating: Magnetised_Paraboloid/Field_c_paraboloid.c  \n",
            "  inflating: Magnetised_Paraboloid/Field_c_paraboloid.pyx  \n",
            "The Python codes to generate new training/validation/testing datasets are now located in these subfolders\n"
          ]
        }
      ]
    }
  ]
}